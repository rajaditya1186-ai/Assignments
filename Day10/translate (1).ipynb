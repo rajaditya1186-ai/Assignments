{
  "nbformat": 4,
  "nbformat_minor": 0,
  "metadata": {
    "colab": {
      "provenance": [],
      "gpuType": "T4"
    },
    "kernelspec": {
      "name": "python3",
      "display_name": "Python 3"
    },
    "language_info": {
      "name": "python"
    },
    "accelerator": "GPU",
    "widgets": {
      "application/vnd.jupyter.widget-state+json": {
        "e38c8fe1bc634d6386a22e73f2fe7b7a": {
          "model_module": "@jupyter-widgets/controls",
          "model_name": "LabelModel",
          "model_module_version": "1.5.0",
          "state": {
            "_dom_classes": [],
            "_model_module": "@jupyter-widgets/controls",
            "_model_module_version": "1.5.0",
            "_model_name": "LabelModel",
            "_view_count": null,
            "_view_module": "@jupyter-widgets/controls",
            "_view_module_version": "1.5.0",
            "_view_name": "LabelView",
            "description": "",
            "description_tooltip": null,
            "layout": "IPY_MODEL_984b078f83fc4d6b80b7875c551684a6",
            "placeholder": "​",
            "style": "IPY_MODEL_ad3dc36265b247f7a1f47fe32df7220a",
            "value": "Source Languages:\n1. English\n2. Hindi\n3. Telugu\n4. Tamil\n5. Marathi\n6. Bengali\n7. Gujarati\n8. Punjabi\n9. German\n10. Spanish\n11. Chinese\n12. Japanese\n13. Korean"
          }
        },
        "984b078f83fc4d6b80b7875c551684a6": {
          "model_module": "@jupyter-widgets/base",
          "model_name": "LayoutModel",
          "model_module_version": "1.2.0",
          "state": {
            "_model_module": "@jupyter-widgets/base",
            "_model_module_version": "1.2.0",
            "_model_name": "LayoutModel",
            "_view_count": null,
            "_view_module": "@jupyter-widgets/base",
            "_view_module_version": "1.2.0",
            "_view_name": "LayoutView",
            "align_content": null,
            "align_items": null,
            "align_self": null,
            "border": null,
            "bottom": null,
            "display": null,
            "flex": null,
            "flex_flow": null,
            "grid_area": null,
            "grid_auto_columns": null,
            "grid_auto_flow": null,
            "grid_auto_rows": null,
            "grid_column": null,
            "grid_gap": null,
            "grid_row": null,
            "grid_template_areas": null,
            "grid_template_columns": null,
            "grid_template_rows": null,
            "height": null,
            "justify_content": null,
            "justify_items": null,
            "left": null,
            "margin": null,
            "max_height": null,
            "max_width": null,
            "min_height": null,
            "min_width": null,
            "object_fit": null,
            "object_position": null,
            "order": null,
            "overflow": null,
            "overflow_x": null,
            "overflow_y": null,
            "padding": null,
            "right": null,
            "top": null,
            "visibility": null,
            "width": null
          }
        },
        "ad3dc36265b247f7a1f47fe32df7220a": {
          "model_module": "@jupyter-widgets/controls",
          "model_name": "DescriptionStyleModel",
          "model_module_version": "1.5.0",
          "state": {
            "_model_module": "@jupyter-widgets/controls",
            "_model_module_version": "1.5.0",
            "_model_name": "DescriptionStyleModel",
            "_view_count": null,
            "_view_module": "@jupyter-widgets/base",
            "_view_module_version": "1.2.0",
            "_view_name": "StyleView",
            "description_width": ""
          }
        },
        "bf30dd167e1f4db1b283ea010dd7f43a": {
          "model_module": "@jupyter-widgets/controls",
          "model_name": "TextModel",
          "model_module_version": "1.5.0",
          "state": {
            "_dom_classes": [],
            "_model_module": "@jupyter-widgets/controls",
            "_model_module_version": "1.5.0",
            "_model_name": "TextModel",
            "_view_count": null,
            "_view_module": "@jupyter-widgets/controls",
            "_view_module_version": "1.5.0",
            "_view_name": "TextView",
            "continuous_update": true,
            "description": "Enter Source Number:",
            "description_tooltip": null,
            "disabled": false,
            "layout": "IPY_MODEL_4e802ac7686b4630a6f15c13c21f61e9",
            "placeholder": "e.g., 1 for English",
            "style": "IPY_MODEL_479894eed224480299001e8e3aee246b",
            "value": "1"
          }
        },
        "4e802ac7686b4630a6f15c13c21f61e9": {
          "model_module": "@jupyter-widgets/base",
          "model_name": "LayoutModel",
          "model_module_version": "1.2.0",
          "state": {
            "_model_module": "@jupyter-widgets/base",
            "_model_module_version": "1.2.0",
            "_model_name": "LayoutModel",
            "_view_count": null,
            "_view_module": "@jupyter-widgets/base",
            "_view_module_version": "1.2.0",
            "_view_name": "LayoutView",
            "align_content": null,
            "align_items": null,
            "align_self": null,
            "border": null,
            "bottom": null,
            "display": null,
            "flex": null,
            "flex_flow": null,
            "grid_area": null,
            "grid_auto_columns": null,
            "grid_auto_flow": null,
            "grid_auto_rows": null,
            "grid_column": null,
            "grid_gap": null,
            "grid_row": null,
            "grid_template_areas": null,
            "grid_template_columns": null,
            "grid_template_rows": null,
            "height": null,
            "justify_content": null,
            "justify_items": null,
            "left": null,
            "margin": null,
            "max_height": null,
            "max_width": null,
            "min_height": null,
            "min_width": null,
            "object_fit": null,
            "object_position": null,
            "order": null,
            "overflow": null,
            "overflow_x": null,
            "overflow_y": null,
            "padding": null,
            "right": null,
            "top": null,
            "visibility": null,
            "width": null
          }
        },
        "479894eed224480299001e8e3aee246b": {
          "model_module": "@jupyter-widgets/controls",
          "model_name": "DescriptionStyleModel",
          "model_module_version": "1.5.0",
          "state": {
            "_model_module": "@jupyter-widgets/controls",
            "_model_module_version": "1.5.0",
            "_model_name": "DescriptionStyleModel",
            "_view_count": null,
            "_view_module": "@jupyter-widgets/base",
            "_view_module_version": "1.2.0",
            "_view_name": "StyleView",
            "description_width": ""
          }
        },
        "54643ba0bb614eb78d72669911b9393d": {
          "model_module": "@jupyter-widgets/controls",
          "model_name": "LabelModel",
          "model_module_version": "1.5.0",
          "state": {
            "_dom_classes": [],
            "_model_module": "@jupyter-widgets/controls",
            "_model_module_version": "1.5.0",
            "_model_name": "LabelModel",
            "_view_count": null,
            "_view_module": "@jupyter-widgets/controls",
            "_view_module_version": "1.5.0",
            "_view_name": "LabelView",
            "description": "",
            "description_tooltip": null,
            "layout": "IPY_MODEL_ed100b9d7feb4eb58148c632c4ae20e8",
            "placeholder": "​",
            "style": "IPY_MODEL_b4ba780e39be42bb80a5f010f62bfa80",
            "value": "Target (Bihar) Languages:\n1. Bhojpuri\n2. Maithili\n3. Magahi\n4. Hindi\n5. Urdu"
          }
        },
        "ed100b9d7feb4eb58148c632c4ae20e8": {
          "model_module": "@jupyter-widgets/base",
          "model_name": "LayoutModel",
          "model_module_version": "1.2.0",
          "state": {
            "_model_module": "@jupyter-widgets/base",
            "_model_module_version": "1.2.0",
            "_model_name": "LayoutModel",
            "_view_count": null,
            "_view_module": "@jupyter-widgets/base",
            "_view_module_version": "1.2.0",
            "_view_name": "LayoutView",
            "align_content": null,
            "align_items": null,
            "align_self": null,
            "border": null,
            "bottom": null,
            "display": null,
            "flex": null,
            "flex_flow": null,
            "grid_area": null,
            "grid_auto_columns": null,
            "grid_auto_flow": null,
            "grid_auto_rows": null,
            "grid_column": null,
            "grid_gap": null,
            "grid_row": null,
            "grid_template_areas": null,
            "grid_template_columns": null,
            "grid_template_rows": null,
            "height": null,
            "justify_content": null,
            "justify_items": null,
            "left": null,
            "margin": null,
            "max_height": null,
            "max_width": null,
            "min_height": null,
            "min_width": null,
            "object_fit": null,
            "object_position": null,
            "order": null,
            "overflow": null,
            "overflow_x": null,
            "overflow_y": null,
            "padding": null,
            "right": null,
            "top": null,
            "visibility": null,
            "width": null
          }
        },
        "b4ba780e39be42bb80a5f010f62bfa80": {
          "model_module": "@jupyter-widgets/controls",
          "model_name": "DescriptionStyleModel",
          "model_module_version": "1.5.0",
          "state": {
            "_model_module": "@jupyter-widgets/controls",
            "_model_module_version": "1.5.0",
            "_model_name": "DescriptionStyleModel",
            "_view_count": null,
            "_view_module": "@jupyter-widgets/base",
            "_view_module_version": "1.2.0",
            "_view_name": "StyleView",
            "description_width": ""
          }
        },
        "0348a3a53ba04abf93f61e58a4495811": {
          "model_module": "@jupyter-widgets/controls",
          "model_name": "TextModel",
          "model_module_version": "1.5.0",
          "state": {
            "_dom_classes": [],
            "_model_module": "@jupyter-widgets/controls",
            "_model_module_version": "1.5.0",
            "_model_name": "TextModel",
            "_view_count": null,
            "_view_module": "@jupyter-widgets/controls",
            "_view_module_version": "1.5.0",
            "_view_name": "TextView",
            "continuous_update": true,
            "description": "Enter Target Number:",
            "description_tooltip": null,
            "disabled": false,
            "layout": "IPY_MODEL_4e337dd8295c40e4b3097e0f3140a666",
            "placeholder": "e.g., 1 for Bhojpuri",
            "style": "IPY_MODEL_fc32080af2c24d05bd9e27d17296a16e",
            "value": "2"
          }
        },
        "4e337dd8295c40e4b3097e0f3140a666": {
          "model_module": "@jupyter-widgets/base",
          "model_name": "LayoutModel",
          "model_module_version": "1.2.0",
          "state": {
            "_model_module": "@jupyter-widgets/base",
            "_model_module_version": "1.2.0",
            "_model_name": "LayoutModel",
            "_view_count": null,
            "_view_module": "@jupyter-widgets/base",
            "_view_module_version": "1.2.0",
            "_view_name": "LayoutView",
            "align_content": null,
            "align_items": null,
            "align_self": null,
            "border": null,
            "bottom": null,
            "display": null,
            "flex": null,
            "flex_flow": null,
            "grid_area": null,
            "grid_auto_columns": null,
            "grid_auto_flow": null,
            "grid_auto_rows": null,
            "grid_column": null,
            "grid_gap": null,
            "grid_row": null,
            "grid_template_areas": null,
            "grid_template_columns": null,
            "grid_template_rows": null,
            "height": null,
            "justify_content": null,
            "justify_items": null,
            "left": null,
            "margin": null,
            "max_height": null,
            "max_width": null,
            "min_height": null,
            "min_width": null,
            "object_fit": null,
            "object_position": null,
            "order": null,
            "overflow": null,
            "overflow_x": null,
            "overflow_y": null,
            "padding": null,
            "right": null,
            "top": null,
            "visibility": null,
            "width": null
          }
        },
        "fc32080af2c24d05bd9e27d17296a16e": {
          "model_module": "@jupyter-widgets/controls",
          "model_name": "DescriptionStyleModel",
          "model_module_version": "1.5.0",
          "state": {
            "_model_module": "@jupyter-widgets/controls",
            "_model_module_version": "1.5.0",
            "_model_name": "DescriptionStyleModel",
            "_view_count": null,
            "_view_module": "@jupyter-widgets/base",
            "_view_module_version": "1.2.0",
            "_view_name": "StyleView",
            "description_width": ""
          }
        },
        "de6b9bd94f6d488bba53afe7c0c9c0ad": {
          "model_module": "@jupyter-widgets/controls",
          "model_name": "TextareaModel",
          "model_module_version": "1.5.0",
          "state": {
            "_dom_classes": [],
            "_model_module": "@jupyter-widgets/controls",
            "_model_module_version": "1.5.0",
            "_model_name": "TextareaModel",
            "_view_count": null,
            "_view_module": "@jupyter-widgets/controls",
            "_view_module_version": "1.5.0",
            "_view_name": "TextareaView",
            "continuous_update": true,
            "description": "Text:",
            "description_tooltip": null,
            "disabled": false,
            "layout": "IPY_MODEL_f18ffdfe6a64474ebf769680a34acdfd",
            "placeholder": "​",
            "rows": null,
            "style": "IPY_MODEL_630833ae39a74a33b980d84b570214d5",
            "value": "Simple Sentences:\n\n\"The sun is shining brightly today.\"\n\n\"She loves reading books in her free time.\"\n\n\"They went to the market to buy vegetables.\"\n\nIntermediate Sentences:\n\n\"If it rains tomorrow, we will cancel the picnic.\"\n\n\"He has been studying English for five years.\"\n\n\"Despite the difficulties, she never gave up on her dreams.\"\n\nComplex Sentences:\n\n\"The scientist who discovered this theory was awarded a Nobel Prize.\"\n\n\"After finishing his homework, he decided to play video games.\"\n\n\"She told me that she would visit her grandparents next weekend.\"\n\nIdiomatic/Proverbial Sentences:\n\n\"Actions speak louder than words.\"\n\n\"Better late than never.\"\n\n\"Don’t count your chickens before they hatch.\""
          }
        },
        "f18ffdfe6a64474ebf769680a34acdfd": {
          "model_module": "@jupyter-widgets/base",
          "model_name": "LayoutModel",
          "model_module_version": "1.2.0",
          "state": {
            "_model_module": "@jupyter-widgets/base",
            "_model_module_version": "1.2.0",
            "_model_name": "LayoutModel",
            "_view_count": null,
            "_view_module": "@jupyter-widgets/base",
            "_view_module_version": "1.2.0",
            "_view_name": "LayoutView",
            "align_content": null,
            "align_items": null,
            "align_self": null,
            "border": null,
            "bottom": null,
            "display": null,
            "flex": null,
            "flex_flow": null,
            "grid_area": null,
            "grid_auto_columns": null,
            "grid_auto_flow": null,
            "grid_auto_rows": null,
            "grid_column": null,
            "grid_gap": null,
            "grid_row": null,
            "grid_template_areas": null,
            "grid_template_columns": null,
            "grid_template_rows": null,
            "height": "100px",
            "justify_content": null,
            "justify_items": null,
            "left": null,
            "margin": null,
            "max_height": null,
            "max_width": null,
            "min_height": null,
            "min_width": null,
            "object_fit": null,
            "object_position": null,
            "order": null,
            "overflow": null,
            "overflow_x": null,
            "overflow_y": null,
            "padding": null,
            "right": null,
            "top": null,
            "visibility": null,
            "width": "100%"
          }
        },
        "630833ae39a74a33b980d84b570214d5": {
          "model_module": "@jupyter-widgets/controls",
          "model_name": "DescriptionStyleModel",
          "model_module_version": "1.5.0",
          "state": {
            "_model_module": "@jupyter-widgets/controls",
            "_model_module_version": "1.5.0",
            "_model_name": "DescriptionStyleModel",
            "_view_count": null,
            "_view_module": "@jupyter-widgets/base",
            "_view_module_version": "1.2.0",
            "_view_name": "StyleView",
            "description_width": ""
          }
        },
        "28be693ced2b485fa80a4843bae906e7": {
          "model_module": "@jupyter-widgets/controls",
          "model_name": "ButtonModel",
          "model_module_version": "1.5.0",
          "state": {
            "_dom_classes": [],
            "_model_module": "@jupyter-widgets/controls",
            "_model_module_version": "1.5.0",
            "_model_name": "ButtonModel",
            "_view_count": null,
            "_view_module": "@jupyter-widgets/controls",
            "_view_module_version": "1.5.0",
            "_view_name": "ButtonView",
            "button_style": "success",
            "description": "Translate",
            "disabled": false,
            "icon": "",
            "layout": "IPY_MODEL_d7a24646925d4b2cb0526f7b17bc0992",
            "style": "IPY_MODEL_14f81eddafaf4c8f8cf65fb25f064989",
            "tooltip": ""
          }
        },
        "d7a24646925d4b2cb0526f7b17bc0992": {
          "model_module": "@jupyter-widgets/base",
          "model_name": "LayoutModel",
          "model_module_version": "1.2.0",
          "state": {
            "_model_module": "@jupyter-widgets/base",
            "_model_module_version": "1.2.0",
            "_model_name": "LayoutModel",
            "_view_count": null,
            "_view_module": "@jupyter-widgets/base",
            "_view_module_version": "1.2.0",
            "_view_name": "LayoutView",
            "align_content": null,
            "align_items": null,
            "align_self": null,
            "border": null,
            "bottom": null,
            "display": null,
            "flex": null,
            "flex_flow": null,
            "grid_area": null,
            "grid_auto_columns": null,
            "grid_auto_flow": null,
            "grid_auto_rows": null,
            "grid_column": null,
            "grid_gap": null,
            "grid_row": null,
            "grid_template_areas": null,
            "grid_template_columns": null,
            "grid_template_rows": null,
            "height": null,
            "justify_content": null,
            "justify_items": null,
            "left": null,
            "margin": null,
            "max_height": null,
            "max_width": null,
            "min_height": null,
            "min_width": null,
            "object_fit": null,
            "object_position": null,
            "order": null,
            "overflow": null,
            "overflow_x": null,
            "overflow_y": null,
            "padding": null,
            "right": null,
            "top": null,
            "visibility": null,
            "width": null
          }
        },
        "14f81eddafaf4c8f8cf65fb25f064989": {
          "model_module": "@jupyter-widgets/controls",
          "model_name": "ButtonStyleModel",
          "model_module_version": "1.5.0",
          "state": {
            "_model_module": "@jupyter-widgets/controls",
            "_model_module_version": "1.5.0",
            "_model_name": "ButtonStyleModel",
            "_view_count": null,
            "_view_module": "@jupyter-widgets/base",
            "_view_module_version": "1.2.0",
            "_view_name": "StyleView",
            "button_color": null,
            "font_weight": ""
          }
        },
        "37940623332e46e8bb1af5d8615f78ed": {
          "model_module": "@jupyter-widgets/output",
          "model_name": "OutputModel",
          "model_module_version": "1.0.0",
          "state": {
            "_dom_classes": [],
            "_model_module": "@jupyter-widgets/output",
            "_model_module_version": "1.0.0",
            "_model_name": "OutputModel",
            "_view_count": null,
            "_view_module": "@jupyter-widgets/output",
            "_view_module_version": "1.0.0",
            "_view_name": "OutputView",
            "layout": "IPY_MODEL_40b524d3466d420c8afef34135d91edc",
            "msg_id": "",
            "outputs": [
              {
                "output_type": "stream",
                "name": "stdout",
                "text": [
                  "✅ Translated to Maithili:\n",
                  "सरल वाक्यः \"आइ सूर्य उज्ज्वल रूप सँ चमकैत अछि।\" \"ओ अपन खाली समयमे किताब पढ़ब पसंद करैत अछि।\" \"ओ सभ सब्जी खरीदबाक लेल बजार गेल छल।\" मध्यवर्ती वाक्यः \"यदि कल बारिश होती है, तो हम पिकनिक रद्द कर देंगे।\" \"वह पांच साल से अंग्रेजी पढ़ैत अछि।\" \"कई कठिनाइक बावजूद, ओ अपन सपनाक बारे मे कहियो हार नहि मानलक।\" जटिल वाक्यः \"वैज्ञानिक जे ई सिद्धांत के पता लगौलनि, ओकरा नोबेल पुरस्कार प्रदान कएल गेल।\" \"अपन होमवर्क पूरा क'लाक बाद ओ वीडियो गेम खेलबाक निर्णय लेलक।\" \"ओ हमरा कहलनि जे ओ अगिला सप्ताहान्तमे अपन दादी-दादीक ओतऽ जाएत।\" इडिओमैटिक/प्राब्बीयल वाक्यः \"आकर्तृक शब्द बेसी जोर सँ बाजैत अछि।\" \"कभी-कखेर सँ नीक अछि।\" \"अपने चिकन क' गिनबाक लेल मत छोड़ू\"\n"
                ]
              }
            ]
          }
        },
        "40b524d3466d420c8afef34135d91edc": {
          "model_module": "@jupyter-widgets/base",
          "model_name": "LayoutModel",
          "model_module_version": "1.2.0",
          "state": {
            "_model_module": "@jupyter-widgets/base",
            "_model_module_version": "1.2.0",
            "_model_name": "LayoutModel",
            "_view_count": null,
            "_view_module": "@jupyter-widgets/base",
            "_view_module_version": "1.2.0",
            "_view_name": "LayoutView",
            "align_content": null,
            "align_items": null,
            "align_self": null,
            "border": null,
            "bottom": null,
            "display": null,
            "flex": null,
            "flex_flow": null,
            "grid_area": null,
            "grid_auto_columns": null,
            "grid_auto_flow": null,
            "grid_auto_rows": null,
            "grid_column": null,
            "grid_gap": null,
            "grid_row": null,
            "grid_template_areas": null,
            "grid_template_columns": null,
            "grid_template_rows": null,
            "height": null,
            "justify_content": null,
            "justify_items": null,
            "left": null,
            "margin": null,
            "max_height": null,
            "max_width": null,
            "min_height": null,
            "min_width": null,
            "object_fit": null,
            "object_position": null,
            "order": null,
            "overflow": null,
            "overflow_x": null,
            "overflow_y": null,
            "padding": null,
            "right": null,
            "top": null,
            "visibility": null,
            "width": null
          }
        }
      }
    }
  },
  "cells": [
    {
      "cell_type": "code",
      "source": [
        "import os\n",
        "import logging\n",
        "import warnings"
      ],
      "metadata": {
        "id": "4glTGbXXj1JC"
      },
      "execution_count": 21,
      "outputs": []
    },
    {
      "cell_type": "code",
      "source": [
        "os.environ[\"TRANSFORMERS_NO_ADVISORY_WARNINGS\"] = \"true\"\n",
        "logging.getLogger(\"transformers\").setLevel(logging.ERROR)\n",
        "warnings.filterwarnings(\"ignore\", category=UserWarning)\n"
      ],
      "metadata": {
        "id": "auECRvEGqDsd"
      },
      "execution_count": 22,
      "outputs": []
    },
    {
      "cell_type": "code",
      "source": [
        "# Load model and tokenizer\n",
        "from transformers import AutoTokenizer, AutoModelForSeq2SeqLM, pipeline\n",
        "import ipywidgets as widgets\n",
        "from IPython.display import display\n",
        "\n",
        "model_name = \"facebook/nllb-200-distilled-600M\"\n",
        "tokenizer = AutoTokenizer.from_pretrained(model_name)\n",
        "model = AutoModelForSeq2SeqLM.from_pretrained(model_name)"
      ],
      "metadata": {
        "id": "K80C9cUhjy1e"
      },
      "execution_count": 23,
      "outputs": []
    },
    {
      "cell_type": "code",
      "source": [
        "# Supported languages\n",
        "source_langs = {\n",
        "    \"English\": \"eng_Latn\",\n",
        "    \"Hindi\": \"hin_Deva\",\n",
        "    \"Telugu\": \"tel_Telu\",\n",
        "    \"Tamil\": \"tam_Taml\",\n",
        "    \"Marathi\": \"mar_Deva\",\n",
        "    \"Bengali\": \"ben_Beng\",\n",
        "    \"Gujarati\": \"guj_Gujr\",\n",
        "    \"Punjabi\": \"pan_Guru\",\n",
        "    \"German\": \"deu_Latn\",\n",
        "    \"Spanish\": \"spa_Latn\",\n",
        "    \"Chinese\": \"zho_Hans\",\n",
        "    \"Japanese\": \"jpn_Jpan\",\n",
        "    \"Korean\": \"kor_Hang\"\n",
        "}"
      ],
      "metadata": {
        "id": "J47MMs7HjNyg"
      },
      "execution_count": 24,
      "outputs": []
    },
    {
      "cell_type": "code",
      "source": [
        "# 🇮🇳 Target Bihar languages\n",
        "bihari_langs = {\n",
        "    \"Bhojpuri\": \"bho_Deva\",\n",
        "    \"Maithili\": \"mai_Deva\",\n",
        "    \"Magahi\": \"mag_Deva\",\n",
        "    \"Hindi\": \"hin_Deva\",\n",
        "    \"Urdu\": \"urd_Arab\"\n",
        "}"
      ],
      "metadata": {
        "id": "-T3VFIfrqZuD"
      },
      "execution_count": 25,
      "outputs": []
    },
    {
      "cell_type": "code",
      "source": [
        "\n",
        "source_lang_list = list(source_langs.keys())\n",
        "bihari_lang_list = list(bihari_langs.keys())\n",
        "\n",
        "source_lang_options = \"\\n\".join([f\"{i+1}. {lang}\" for i, lang in enumerate(source_lang_list)])\n",
        "bihari_lang_options = \"\\n\".join([f\"{i+1}. {lang}\" for i, lang in enumerate(bihari_lang_list)])\n",
        "\n",
        "# Widgets\n",
        "source_lang_label = widgets.Label(value=f\"Source Languages:\\n{source_lang_options}\")\n",
        "src_lang_widget = widgets.Text(\n",
        "    description=\"Enter Source Number:\",\n",
        "    placeholder=\"e.g., 1 for English\"\n",
        ")\n",
        "target_lang_label = widgets.Label(value=f\"Target (Bihar) Languages:\\n{bihari_lang_options}\")\n",
        "tgt_lang_widget = widgets.Text(\n",
        "    description=\"Enter Target Number:\",\n",
        "    placeholder=\"e.g., 1 for Bhojpuri\"\n",
        ")\n",
        "text_input = widgets.Textarea(\n",
        "    description=\"Text:\",\n",
        "    layout=widgets.Layout(width=\"100%\", height=\"100px\")\n",
        ")\n",
        "translate_button = widgets.Button(\n",
        "    description=\"Translate\",\n",
        "    button_style=\"success\"\n",
        ")\n",
        "output_box = widgets.Output()"
      ],
      "metadata": {
        "id": "BU2Bzoa3jNuc"
      },
      "execution_count": 26,
      "outputs": []
    },
    {
      "cell_type": "code",
      "source": [
        "def translate_text(b):\n",
        "    output_box.clear_output()\n",
        "    src_input = src_lang_widget.value.strip()\n",
        "    tgt_input = tgt_lang_widget.value.strip()\n",
        "    input_text = text_input.value.strip()\n",
        "\n",
        "    # Validate inputs\n",
        "    if not src_input.isdigit() or not 1 <= int(src_input) <= len(source_lang_list):\n",
        "        with output_box:\n",
        "            print(f\"⚠️ Invalid source number. Enter a number between 1 and {len(source_lang_list)}.\")\n",
        "        return\n",
        "    if not tgt_input.isdigit() or not 1 <= int(tgt_input) <= len(bihari_lang_list):\n",
        "        with output_box:\n",
        "            print(f\"⚠️ Invalid target number. Enter a number between 1 and {len(bihari_lang_list)}.\")\n",
        "        return\n",
        "    if not input_text:\n",
        "        with output_box:\n",
        "            print(\"⚠️ Please enter some text.\")\n",
        "        return\n",
        "\n",
        "    try:\n",
        "        src_lang = source_lang_list[int(src_input) - 1]\n",
        "        tgt_lang = bihari_lang_list[int(tgt_input) - 1]\n",
        "        src_code = source_langs[src_lang]\n",
        "        tgt_code = bihari_langs[tgt_lang]\n",
        "        translator = pipeline(\n",
        "            \"translation\",\n",
        "            model=model,\n",
        "            tokenizer=tokenizer,\n",
        "            src_lang=src_code,\n",
        "            tgt_lang=tgt_code,\n",
        "            max_length=512\n",
        "        )\n",
        "        result = translator(input_text)[0][\"translation_text\"]\n",
        "        with output_box:\n",
        "            print(f\"✅ Translated to {tgt_lang}:\\n{result}\")\n",
        "    except Exception as e:\n",
        "        with output_box:\n",
        "            print(\"❌ Translation failed:\", str(e))\n"
      ],
      "metadata": {
        "id": "muFAO03ojNpO"
      },
      "execution_count": 27,
      "outputs": []
    },
    {
      "cell_type": "code",
      "source": [
        "translate_button.on_click(translate_text)"
      ],
      "metadata": {
        "id": "G3LvoS0rjipI"
      },
      "execution_count": 28,
      "outputs": []
    },
    {
      "cell_type": "code",
      "source": [
        "display(source_lang_label, src_lang_widget, target_lang_label, tgt_lang_widget,\n",
        "        text_input, translate_button, output_box)"
      ],
      "metadata": {
        "colab": {
          "base_uri": "https://localhost:8080/",
          "height": 384,
          "referenced_widgets": [
            "e38c8fe1bc634d6386a22e73f2fe7b7a",
            "984b078f83fc4d6b80b7875c551684a6",
            "ad3dc36265b247f7a1f47fe32df7220a",
            "bf30dd167e1f4db1b283ea010dd7f43a",
            "4e802ac7686b4630a6f15c13c21f61e9",
            "479894eed224480299001e8e3aee246b",
            "54643ba0bb614eb78d72669911b9393d",
            "ed100b9d7feb4eb58148c632c4ae20e8",
            "b4ba780e39be42bb80a5f010f62bfa80",
            "0348a3a53ba04abf93f61e58a4495811",
            "4e337dd8295c40e4b3097e0f3140a666",
            "fc32080af2c24d05bd9e27d17296a16e",
            "de6b9bd94f6d488bba53afe7c0c9c0ad",
            "f18ffdfe6a64474ebf769680a34acdfd",
            "630833ae39a74a33b980d84b570214d5",
            "28be693ced2b485fa80a4843bae906e7",
            "d7a24646925d4b2cb0526f7b17bc0992",
            "14f81eddafaf4c8f8cf65fb25f064989",
            "37940623332e46e8bb1af5d8615f78ed",
            "40b524d3466d420c8afef34135d91edc"
          ]
        },
        "id": "6dAhyYj-jlqJ",
        "outputId": "caf695c5-9f9e-4750-e06d-c0880b9a47df"
      },
      "execution_count": 29,
      "outputs": [
        {
          "output_type": "display_data",
          "data": {
            "text/plain": [
              "Label(value='Source Languages:\\n1. English\\n2. Hindi\\n3. Telugu\\n4. Tamil\\n5. Marathi\\n6. Bengali\\n7. Gujarati…"
            ],
            "application/vnd.jupyter.widget-view+json": {
              "version_major": 2,
              "version_minor": 0,
              "model_id": "e38c8fe1bc634d6386a22e73f2fe7b7a"
            }
          },
          "metadata": {}
        },
        {
          "output_type": "display_data",
          "data": {
            "text/plain": [
              "Text(value='', description='Enter Source Number:', placeholder='e.g., 1 for English')"
            ],
            "application/vnd.jupyter.widget-view+json": {
              "version_major": 2,
              "version_minor": 0,
              "model_id": "bf30dd167e1f4db1b283ea010dd7f43a"
            }
          },
          "metadata": {}
        },
        {
          "output_type": "display_data",
          "data": {
            "text/plain": [
              "Label(value='Target (Bihar) Languages:\\n1. Bhojpuri\\n2. Maithili\\n3. Magahi\\n4. Hindi\\n5. Urdu')"
            ],
            "application/vnd.jupyter.widget-view+json": {
              "version_major": 2,
              "version_minor": 0,
              "model_id": "54643ba0bb614eb78d72669911b9393d"
            }
          },
          "metadata": {}
        },
        {
          "output_type": "display_data",
          "data": {
            "text/plain": [
              "Text(value='', description='Enter Target Number:', placeholder='e.g., 1 for Bhojpuri')"
            ],
            "application/vnd.jupyter.widget-view+json": {
              "version_major": 2,
              "version_minor": 0,
              "model_id": "0348a3a53ba04abf93f61e58a4495811"
            }
          },
          "metadata": {}
        },
        {
          "output_type": "display_data",
          "data": {
            "text/plain": [
              "Textarea(value='', description='Text:', layout=Layout(height='100px', width='100%'))"
            ],
            "application/vnd.jupyter.widget-view+json": {
              "version_major": 2,
              "version_minor": 0,
              "model_id": "de6b9bd94f6d488bba53afe7c0c9c0ad"
            }
          },
          "metadata": {}
        },
        {
          "output_type": "display_data",
          "data": {
            "text/plain": [
              "Button(button_style='success', description='Translate', style=ButtonStyle())"
            ],
            "application/vnd.jupyter.widget-view+json": {
              "version_major": 2,
              "version_minor": 0,
              "model_id": "28be693ced2b485fa80a4843bae906e7"
            }
          },
          "metadata": {}
        },
        {
          "output_type": "display_data",
          "data": {
            "text/plain": [
              "Output()"
            ],
            "application/vnd.jupyter.widget-view+json": {
              "version_major": 2,
              "version_minor": 0,
              "model_id": "37940623332e46e8bb1af5d8615f78ed"
            }
          },
          "metadata": {}
        }
      ]
    }
  ]
}