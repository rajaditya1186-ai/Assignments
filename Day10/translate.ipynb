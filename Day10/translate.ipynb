{
  "nbformat": 4,
  "nbformat_minor": 0,
  "metadata": {
    "colab": {
      "provenance": [],
      "gpuType": "T4"
    },
    "kernelspec": {
      "name": "python3",
      "display_name": "Python 3"
    },
    "language_info": {
      "name": "python"
    },
    "accelerator": "GPU"
  },
  "cells": [
    {
      "cell_type": "code",
      "source": [
        "import os\n",
        "import logging"
      ],
      "metadata": {
        "id": "4glTGbXXj1JC"
      },
      "execution_count": 31,
      "outputs": []
    },
    {
      "cell_type": "code",
      "source": [
        "os.environ[\"TRANSFORMERS_NO_ADVISORY_WARNINGS\"] = \"true\"\n",
        "logging.getLogger(\"transformers\").setLevel(logging.ERROR)"
      ],
      "metadata": {
        "id": "auECRvEGqDsd"
      },
      "execution_count": 32,
      "outputs": []
    },
    {
      "cell_type": "code",
      "source": [
        "from transformers import AutoTokenizer, AutoModelForSeq2SeqLM, pipeline\n",
        "\n",
        "model_name = \"facebook/nllb-200-distilled-600M\"\n",
        "tokenizer = AutoTokenizer.from_pretrained(model_name)\n",
        "model = AutoModelForSeq2SeqLM.from_pretrained(model_name)"
      ],
      "metadata": {
        "id": "K80C9cUhjy1e"
      },
      "execution_count": 33,
      "outputs": []
    },
    {
      "cell_type": "code",
      "source": [
        "source_langs = {\n",
        "    \"1\": (\"English\", \"eng_Latn\"),\n",
        "    \"2\": (\"Hindi\", \"hin_Deva\"),\n",
        "    \"3\": (\"Tamil\", \"tam_Taml\"),\n",
        "    \"4\": (\"Telugu\", \"tel_Telu\"),\n",
        "    \"5\": (\"Bengali\", \"ben_Beng\")\n",
        "}\n",
        "\n",
        "bihari_langs = {\n",
        "    \"1\": (\"Bhojpuri\", \"bho_Deva\"),\n",
        "    \"2\": (\"Maithili\", \"mai_Deva\"),\n",
        "    \"3\": (\"Magahi\", \"mag_Deva\"),\n",
        "    \"4\": (\"Hindi\", \"hin_Deva\"),\n",
        "    \"5\": (\"Urdu\", \"urd_Arab\")\n",
        "}\n"
      ],
      "metadata": {
        "id": "J47MMs7HjNyg"
      },
      "execution_count": 34,
      "outputs": []
    },
    {
      "cell_type": "code",
      "source": [
        "input_text = input(\"Enter the text you want to translate:\\n\")"
      ],
      "metadata": {
        "id": "-T3VFIfrqZuD",
        "colab": {
          "base_uri": "https://localhost:8080/"
        },
        "outputId": "b23443d3-34fd-4208-b1f9-8974bf5a15b5"
      },
      "execution_count": 35,
      "outputs": [
        {
          "name": "stdout",
          "output_type": "stream",
          "text": [
            "Enter the text you want to translate:\n",
            "\"The sun is shining brightly today.\"  \"She loves reading books in her free time.\"  \"They went to the market to buy vegetables.\"\n"
          ]
        }
      ]
    },
    {
      "cell_type": "code",
      "source": [
        "print(\"\\nSelect source language:\")\n",
        "for k, v in source_langs.items():\n",
        "    print(f\"{k}. {v[0]}\")\n",
        "src_choice = input(\"Enter number: \").strip()\n",
        "src_lang_code = source_langs.get(src_choice, (\"English\", \"eng_Latn\"))[1]"
      ],
      "metadata": {
        "id": "BU2Bzoa3jNuc",
        "colab": {
          "base_uri": "https://localhost:8080/"
        },
        "outputId": "cdab9ab9-25a1-4061-b845-7768cd822189"
      },
      "execution_count": 36,
      "outputs": [
        {
          "name": "stdout",
          "output_type": "stream",
          "text": [
            "\n",
            "Select source language:\n",
            "1. English\n",
            "2. Hindi\n",
            "3. Tamil\n",
            "4. Telugu\n",
            "5. Bengali\n",
            "Enter number: 1\n"
          ]
        }
      ]
    },
    {
      "cell_type": "code",
      "source": [
        "print(\"\\nSelect target Bihari language:\")\n",
        "for k, v in bihari_langs.items():\n",
        "    print(f\"{k}. {v[0]}\")\n",
        "tgt_choice = input(\"Enter number: \").strip()\n",
        "tgt_lang_name, tgt_lang_code = bihari_langs.get(tgt_choice, (\"Maithili\", \"mai_Deva\"))"
      ],
      "metadata": {
        "id": "muFAO03ojNpO",
        "colab": {
          "base_uri": "https://localhost:8080/"
        },
        "outputId": "a242232f-5fb0-45cb-cefd-5232cc27cad3"
      },
      "execution_count": 37,
      "outputs": [
        {
          "name": "stdout",
          "output_type": "stream",
          "text": [
            "\n",
            "Select target Bihari language:\n",
            "1. Bhojpuri\n",
            "2. Maithili\n",
            "3. Magahi\n",
            "4. Hindi\n",
            "5. Urdu\n",
            "Enter number: 3\n"
          ]
        }
      ]
    },
    {
      "cell_type": "code",
      "source": [
        "translator = pipeline(\"translation\", model=model, tokenizer=tokenizer,\n",
        "                      src_lang=src_lang_code, tgt_lang=tgt_lang_code, max_length=512)"
      ],
      "metadata": {
        "id": "DcXFW37KCOkd"
      },
      "execution_count": 38,
      "outputs": []
    },
    {
      "cell_type": "code",
      "source": [
        "result = translator(input_text)[0]['translation_text']\n",
        "print(f\"\\n✅ Translated to {tgt_lang_name}: {result}\")"
      ],
      "metadata": {
        "id": "G3LvoS0rjipI",
        "colab": {
          "base_uri": "https://localhost:8080/"
        },
        "outputId": "6fdbf6ba-3de0-4c8c-86c0-cdedbe7758e1"
      },
      "execution_count": 39,
      "outputs": [
        {
          "output_type": "stream",
          "name": "stdout",
          "text": [
            "\n",
            "✅ Translated to Magahi: \"आज सूरज उज्ज्वल चमकऽ हइ।\" \"ऊ खाली समय में किताब पढ़ना पसंद करऽ हइ।\" \"ऊ सब बजार में सब्जी खरीदे गेलइ।\"\n"
          ]
        }
      ]
    }
  ]
}